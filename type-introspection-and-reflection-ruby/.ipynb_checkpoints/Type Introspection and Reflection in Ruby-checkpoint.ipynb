{
 "cells": [
  {
   "cell_type": "markdown",
   "metadata": {
    "slideshow": {
     "slide_type": "slide"
    }
   },
   "source": [
    "# Type Introspection and Reflection in Ruby\n",
    "\n",
    "By The Code Boss"
   ]
  },
  {
   "cell_type": "markdown",
   "metadata": {
    "slideshow": {
     "slide_type": "slide"
    }
   },
   "source": [
    "# Type Introspection\n"
   ]
  },
  {
   "cell_type": "markdown",
   "metadata": {
    "slideshow": {
     "slide_type": "fragment"
    }
   },
   "source": [
    "the ability of a program to examine the type or properties of an object at runtime"
   ]
  },
  {
   "cell_type": "markdown",
   "metadata": {
    "slideshow": {
     "slide_type": "slide"
    }
   },
   "source": [
    "# Type Introspection - Java"
   ]
  },
  {
   "cell_type": "code",
   "execution_count": null,
   "metadata": {
    "collapsed": true,
    "slideshow": {
     "slide_type": "fragment"
    }
   },
   "outputs": [],
   "source": [
    "%%capture\n",
    "%%java\n",
    "\n",
    "// Java\n",
    " \n",
    "if(obj instanceof Person){\n",
    "   Person p = (Person)obj;\n",
    "   p.walk();\n",
    "}"
   ]
  },
  {
   "cell_type": "markdown",
   "metadata": {
    "slideshow": {
     "slide_type": "slide"
    }
   },
   "source": [
    "# Type Introspection - PHP"
   ]
  },
  {
   "cell_type": "code",
   "execution_count": null,
   "metadata": {
    "collapsed": true,
    "slideshow": {
     "slide_type": "fragment"
    }
   },
   "outputs": [],
   "source": [
    "%%capture\n",
    "%%php\n",
    "\n",
    "//PHP\n",
    " \n",
    "if ($obj instanceof Person) {\n",
    "   // Do whatever you want\n",
    "}"
   ]
  },
  {
   "cell_type": "markdown",
   "metadata": {
    "slideshow": {
     "slide_type": "slide"
    }
   },
   "source": [
    "# Type Introspection - Python"
   ]
  },
  {
   "cell_type": "code",
   "execution_count": 32,
   "metadata": {
    "collapsed": false,
    "slideshow": {
     "slide_type": "fragment"
    }
   },
   "outputs": [],
   "source": [
    "%%capture\n",
    "# Python\n",
    " \n",
    "class foo(object):\n",
    "  def __init__(self, val):\n",
    "    self.x = val\n",
    "  def bar(self):\n",
    "    return self.x\n",
    "\n",
    " \n",
    "print(dir(foo(5)))\n",
    "\n",
    "# print(type(foo(7)))"
   ]
  },
  {
   "cell_type": "markdown",
   "metadata": {
    "slideshow": {
     "slide_type": "slide"
    }
   },
   "source": [
    "# Type Introspection - Ruby"
   ]
  },
  {
   "cell_type": "code",
   "execution_count": 33,
   "metadata": {
    "collapsed": false,
    "slideshow": {
     "slide_type": "fragment"
    }
   },
   "outputs": [],
   "source": [
    "%%capture\n",
    "%%ruby\n",
    "\n",
    "#Ruby\n",
    " \n",
    "A=Class.new\n",
    "B=Class.new A\n",
    "\n",
    "a=A.new\n",
    "b=B.new\n",
    "\n",
    "# puts a.instance_of? A\n",
    "# puts b.instance_of? A\n",
    "# puts b.kind_of? A\n",
    "# puts A.instance_of? Class"
   ]
  },
  {
   "cell_type": "markdown",
   "metadata": {
    "slideshow": {
     "slide_type": "slide"
    }
   },
   "source": [
    "# Type Introspection - Ruby (cont'd.)"
   ]
  },
  {
   "cell_type": "code",
   "execution_count": 29,
   "metadata": {
    "collapsed": false,
    "slideshow": {
     "slide_type": "fragment"
    }
   },
   "outputs": [],
   "source": [
    "%%capture\n",
    "%%ruby\n",
    "\n",
    "A=Class.new\n",
    "B=Class.new A\n",
    "\n",
    "a=A.new\n",
    "b=B.new\n",
    "\n",
    "puts a.class\n",
    "puts a.class.class\n",
    "\n",
    "puts A > B\n",
    "puts B <= A"
   ]
  },
  {
   "cell_type": "markdown",
   "metadata": {
    "slideshow": {
     "slide_type": "slide"
    }
   },
   "source": [
    "# Reflection\n"
   ]
  },
  {
   "cell_type": "markdown",
   "metadata": {
    "slideshow": {
     "slide_type": "fragment"
    }
   },
   "source": [
    "the ability of a computer program to examine and modify the structure and behavior (specifically the values, meta-data, properties and functions) of a program at runtime"
   ]
  },
  {
   "cell_type": "markdown",
   "metadata": {
    "slideshow": {
     "slide_type": "slide"
    }
   },
   "source": [
    "# Reflection - Javascript"
   ]
  },
  {
   "cell_type": "code",
   "execution_count": null,
   "metadata": {
    "collapsed": true,
    "slideshow": {
     "slide_type": "fragment"
    }
   },
   "outputs": [],
   "source": [
    "%%capture\n",
    "%%javascript\n",
    "\n",
    "// ECMAScript - such as Javascript\n",
    " \n",
    "// Without reflection\n",
    "new Foo().hello()\n",
    " \n",
    "// With reflection\n",
    " \n",
    "// assuming that Foo resides in this\n",
    "new this['Foo']()['hello']()\n",
    " \n",
    "// or without assumption\n",
    "new (eval('Foo'))()['hello']()\n",
    " \n",
    "// or simply\n",
    "eval('new Foo().hello()')"
   ]
  },
  {
   "cell_type": "markdown",
   "metadata": {
    "slideshow": {
     "slide_type": "slide"
    }
   },
   "source": [
    "# Reflection - Java"
   ]
  },
  {
   "cell_type": "code",
   "execution_count": null,
   "metadata": {
    "collapsed": true,
    "slideshow": {
     "slide_type": "fragment"
    }
   },
   "outputs": [],
   "source": [
    "%%capture\n",
    "%%ruby\n",
    "\n",
    "// Java\n",
    " \n",
    "// without reflection\n",
    "Foo foo = new Foo();\n",
    "foo.hello();\n",
    " \n",
    "// with reflection\n",
    "Object foo = Class.forName(\"complete.classpath.and.Foo\").newInstance();\n",
    "// Alternatively: Object foo = Foo.class.newInstance();\n",
    "Method m = foo.getClass().getDeclaredMethod(\"hello\", new Class<?>[0]);\n",
    "m.invoke(foo);"
   ]
  },
  {
   "cell_type": "markdown",
   "metadata": {
    "slideshow": {
     "slide_type": "slide"
    }
   },
   "source": [
    "# Reflection - Python"
   ]
  },
  {
   "cell_type": "code",
   "execution_count": null,
   "metadata": {
    "collapsed": true,
    "slideshow": {
     "slide_type": "fragment"
    }
   },
   "outputs": [],
   "source": [
    "%%capture\n",
    "\n",
    "# Python\n",
    " \n",
    "# without reflection\n",
    "obj = Foo()\n",
    "obj.hello()\n",
    " \n",
    "# with reflection\n",
    "class_name = \"Foo\"\n",
    "method = \"hello\"\n",
    "obj = globals()[class_name]()\n",
    "getattr(obj, method)()\n",
    " \n",
    "# with eval\n",
    "eval(\"Foo().hello()\")"
   ]
  },
  {
   "cell_type": "markdown",
   "metadata": {
    "slideshow": {
     "slide_type": "slide"
    }
   },
   "source": [
    "# Reflection - Ruby"
   ]
  },
  {
   "cell_type": "code",
   "execution_count": null,
   "metadata": {
    "collapsed": true,
    "slideshow": {
     "slide_type": "fragment"
    }
   },
   "outputs": [],
   "source": [
    "%%capture\n",
    "%%ruby\n",
    "\n",
    "# Ruby\n",
    " \n",
    "# without reflection\n",
    "obj = Foo.new\n",
    "obj.hello\n",
    " \n",
    "# with reflection\n",
    "class_name = \"Foo\"\n",
    "method = :hello\n",
    "obj = Kernel.const_get(class_name).new\n",
    "obj.send method\n",
    " \n",
    "# with eval\n",
    "eval \"Foo.new.hello\""
   ]
  },
  {
   "cell_type": "markdown",
   "metadata": {
    "slideshow": {
     "slide_type": "slide"
    }
   },
   "source": [
    "# Eval Statements - Beware"
   ]
  },
  {
   "cell_type": "code",
   "execution_count": null,
   "metadata": {
    "collapsed": true,
    "slideshow": {
     "slide_type": "fragment"
    }
   },
   "outputs": [],
   "source": [
    "%%capture\n",
    "\n",
    "session['authenticated'] = False\n",
    "data = get_data()\n",
    "foo = eval(data)\n",
    "\n",
    "# What if we passed this in to get_data() ?\n",
    "#\n",
    "# \"session.update(authenticated=True)\""
   ]
  },
  {
   "cell_type": "markdown",
   "metadata": {
    "slideshow": {
     "slide_type": "slide"
    }
   },
   "source": [
    "# In a Nutshell"
   ]
  },
  {
   "cell_type": "markdown",
   "metadata": {
    "slideshow": {
     "slide_type": "fragment"
    }
   },
   "source": [
    "**type introspection** is just *inspecting* an object’s attributes <br />\n",
    "**reflection** is the actual *manipulating or invoking* of an object’s attributes or functions"
   ]
  }
 ],
 "metadata": {
  "celltoolbar": "Slideshow",
  "kernelspec": {
   "display_name": "Python 3",
   "language": "python",
   "name": "python3"
  },
  "language_info": {
   "codemirror_mode": {
    "name": "ipython",
    "version": 3
   },
   "file_extension": ".py",
   "mimetype": "text/x-python",
   "name": "python",
   "nbconvert_exporter": "python",
   "pygments_lexer": "ipython3",
   "version": "3.3.4"
  }
 },
 "nbformat": 4,
 "nbformat_minor": 0
}
